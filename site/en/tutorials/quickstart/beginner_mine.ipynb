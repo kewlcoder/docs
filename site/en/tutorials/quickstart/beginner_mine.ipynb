{
 "cells": [
  {
   "cell_type": "markdown",
   "id": "58bdc7ce",
   "metadata": {},
   "source": [
    "### Do refer to the original notebook for a different interesting implementation"
   ]
  },
  {
   "cell_type": "code",
   "execution_count": 122,
   "id": "03b1f49d",
   "metadata": {},
   "outputs": [],
   "source": [
    "import tensorflow as tf\n",
    "from tensorflow import keras"
   ]
  },
  {
   "cell_type": "code",
   "execution_count": 123,
   "id": "e4d694af",
   "metadata": {},
   "outputs": [
    {
     "data": {
      "text/plain": [
       "[PhysicalDevice(name='/physical_device:CPU:0', device_type='CPU'),\n",
       " PhysicalDevice(name='/physical_device:GPU:0', device_type='GPU')]"
      ]
     },
     "execution_count": 123,
     "metadata": {},
     "output_type": "execute_result"
    }
   ],
   "source": [
    "tf.config.list_physical_devices()\n",
    "# tf.config.list_logical_devices()\n"
   ]
  },
  {
   "cell_type": "code",
   "execution_count": 124,
   "id": "92f96bb0",
   "metadata": {},
   "outputs": [],
   "source": [
    "data = keras.datasets.mnist.load_data()"
   ]
  },
  {
   "cell_type": "code",
   "execution_count": 125,
   "id": "7e2158b2",
   "metadata": {},
   "outputs": [],
   "source": [
    "type(data[0][0]) # tuple\n",
    "len(data) # 2\n",
    "len(data[0]) # 2\n",
    "len(data[0][0]) # 60000\n",
    "type(data[0][0]) # numpy.ndarray()\n",
    "data[0][0].shape # (60000, 28, 28)\n",
    "(x_train, y_train), (x_test, y_test) = data"
   ]
  },
  {
   "cell_type": "code",
   "execution_count": 126,
   "id": "a8fb24ec",
   "metadata": {},
   "outputs": [
    {
     "data": {
      "text/plain": [
       "(10000,)"
      ]
     },
     "execution_count": 126,
     "metadata": {},
     "output_type": "execute_result"
    }
   ],
   "source": [
    "x_train.shape\n",
    "x_test.shape\n",
    "y_train.shape\n",
    "y_test.shape\n"
   ]
  },
  {
   "cell_type": "code",
   "execution_count": 127,
   "id": "99b236b2",
   "metadata": {},
   "outputs": [
    {
     "data": {
      "text/plain": [
       "[5, 0, 4, 1, 9]"
      ]
     },
     "execution_count": 127,
     "metadata": {},
     "output_type": "execute_result"
    }
   ],
   "source": [
    "list(y_train[:5])"
   ]
  },
  {
   "cell_type": "code",
   "execution_count": 128,
   "id": "694c7054",
   "metadata": {},
   "outputs": [],
   "source": [
    "encoding_layer = tf.keras.layers.experimental.preprocessing.CategoryEncoding(num_tokens=10, output_mode='binary')\n",
    "y_train_enc = encoding_layer(list(y_train))\n",
    "y_test_enc = encoding_layer(list(y_test))\n",
    "# encoding_layer([3,2,1,0])\n"
   ]
  },
  {
   "cell_type": "code",
   "execution_count": 129,
   "id": "359b0303",
   "metadata": {},
   "outputs": [],
   "source": [
    "# normalize\n",
    "x_train = x_train/255.\n",
    "x_test = x_test/255."
   ]
  },
  {
   "cell_type": "code",
   "execution_count": 187,
   "id": "97e16102",
   "metadata": {},
   "outputs": [],
   "source": [
    "# simplistic models can have high Dropout(0.5). \n",
    "# Since this model is a more sophisticated version, reduced dropout to 0.25 to reduce bias.\n",
    "dr = 0.25\n",
    "model = tf.keras.Sequential([\n",
    "    tf.keras.layers.Flatten(input_shape=(28, 28)),\n",
    "    tf.keras.layers.Dense(128, activation='relu'),\n",
    "    tf.keras.layers.Dropout(dr),\n",
    "    tf.keras.layers.Dense(128, activation='relu'),\n",
    "    tf.keras.layers.Dropout(dr),\n",
    "    tf.keras.layers.Dense(64, activation='relu'),\n",
    "    tf.keras.layers.Dropout(dr),\n",
    "    tf.keras.layers.Dense(64, activation='relu'),\n",
    "    tf.keras.layers.Dropout(dr),\n",
    "    tf.keras.layers.Dense(32, activation='relu'),\n",
    "    tf.keras.layers.Dropout(dr),\n",
    "    tf.keras.layers.Dense(32, activation='relu'),\n",
    "    tf.keras.layers.Dropout(dr),\n",
    "    tf.keras.layers.Dense(16, activation='relu'),\n",
    "    tf.keras.layers.Dropout(dr),\n",
    "    tf.keras.layers.Dense(16, activation='relu'),\n",
    "    tf.keras.layers.Dropout(dr),\n",
    "    tf.keras.layers.Dense(10, activation='softmax'),\n",
    "])"
   ]
  },
  {
   "cell_type": "code",
   "execution_count": 188,
   "id": "e2e2f261",
   "metadata": {},
   "outputs": [],
   "source": [
    "adam_optimizer = tf.keras.optimizers.Adam(learning_rate=0.001, beta_1=0.9, beta_2=0.999, epsilon=1e-07)"
   ]
  },
  {
   "cell_type": "markdown",
   "id": "c6a94be1",
   "metadata": {},
   "source": [
    "### Use -\n",
    "* bin cross ent -> single/two classes</br>\n",
    "* cat. CE -> multiple classes\n",
    "* sparse cat. CE -> a convenience function with added functionality over cat. CE where you only specify the integer index of the class "
   ]
  },
  {
   "cell_type": "markdown",
   "id": "aa51f50e",
   "metadata": {},
   "source": [
    "### sparse_categorical_crossentropy and CategoricalAccuracy to be used with y_train only as shown below"
   ]
  },
  {
   "cell_type": "code",
   "execution_count": 189,
   "id": "f75fca85",
   "metadata": {},
   "outputs": [],
   "source": [
    "if 0:\n",
    "    model.compile(optimizer='adam', loss='sparse_categorical_crossentropy'#, metrics=['accuracy'] )\n",
    "              , metrics=[tf.keras.metrics.CategoricalAccuracy() ] )\n",
    "    model.fit(x_train, y_train, batch_size=32, epochs=5)"
   ]
  },
  {
   "cell_type": "code",
   "execution_count": 190,
   "id": "a4fbac19",
   "metadata": {},
   "outputs": [],
   "source": [
    "model.compile(optimizer=adam_optimizer, loss='categorical_crossentropy', metrics=['accuracy'] )\n",
    "#               , metrics=[tf.keras.metrics.CategoricalAccuracy() ] )\n",
    "#                          , tf.keras.metrics.AUC() \\\n",
    "#                          , tf.keras.metrics.Precision(), tf.keras.metrics.Recall() ] )\n",
    "#                          , tf.keras.metrics.RecallAtPrecision() \\\n",
    "#                         , tf.keras.metrics.PrecisionAtRecall()])"
   ]
  },
  {
   "cell_type": "code",
   "execution_count": 191,
   "id": "5ca566fc",
   "metadata": {},
   "outputs": [
    {
     "name": "stdout",
     "output_type": "stream",
     "text": [
      "Model: \"sequential_7\"\n",
      "_________________________________________________________________\n",
      "Layer (type)                 Output Shape              Param #   \n",
      "=================================================================\n",
      "flatten_7 (Flatten)          (None, 784)               0         \n",
      "_________________________________________________________________\n",
      "dense_31 (Dense)             (None, 128)               100480    \n",
      "_________________________________________________________________\n",
      "dropout_24 (Dropout)         (None, 128)               0         \n",
      "_________________________________________________________________\n",
      "dense_32 (Dense)             (None, 128)               16512     \n",
      "_________________________________________________________________\n",
      "dropout_25 (Dropout)         (None, 128)               0         \n",
      "_________________________________________________________________\n",
      "dense_33 (Dense)             (None, 64)                8256      \n",
      "_________________________________________________________________\n",
      "dropout_26 (Dropout)         (None, 64)                0         \n",
      "_________________________________________________________________\n",
      "dense_34 (Dense)             (None, 64)                4160      \n",
      "_________________________________________________________________\n",
      "dropout_27 (Dropout)         (None, 64)                0         \n",
      "_________________________________________________________________\n",
      "dense_35 (Dense)             (None, 32)                2080      \n",
      "_________________________________________________________________\n",
      "dropout_28 (Dropout)         (None, 32)                0         \n",
      "_________________________________________________________________\n",
      "dense_36 (Dense)             (None, 32)                1056      \n",
      "_________________________________________________________________\n",
      "dropout_29 (Dropout)         (None, 32)                0         \n",
      "_________________________________________________________________\n",
      "dense_37 (Dense)             (None, 16)                528       \n",
      "_________________________________________________________________\n",
      "dropout_30 (Dropout)         (None, 16)                0         \n",
      "_________________________________________________________________\n",
      "dense_38 (Dense)             (None, 16)                272       \n",
      "_________________________________________________________________\n",
      "dropout_31 (Dropout)         (None, 16)                0         \n",
      "_________________________________________________________________\n",
      "dense_39 (Dense)             (None, 10)                170       \n",
      "=================================================================\n",
      "Total params: 133,514\n",
      "Trainable params: 133,514\n",
      "Non-trainable params: 0\n",
      "_________________________________________________________________\n"
     ]
    }
   ],
   "source": [
    "model.summary()"
   ]
  },
  {
   "cell_type": "code",
   "execution_count": 192,
   "id": "54ae05c0",
   "metadata": {},
   "outputs": [
    {
     "name": "stdout",
     "output_type": "stream",
     "text": [
      "/home/aman/Desktop/projects/repos/tutorials/tf_docs/site/en/tutorials/quickstart\r\n"
     ]
    },
    {
     "data": {
      "text/plain": [
       "0.0717897987691853"
      ]
     },
     "execution_count": 192,
     "metadata": {},
     "output_type": "execute_result"
    }
   ],
   "source": [
    "y_train[0]\n",
    "type(y_train_enc.numpy())\n",
    "type(x_train)\n",
    "0.95**50\n",
    "\n",
    "tf.math.exp(-0.1)\n",
    "0.9**10\n",
    "0.9**25\n"
   ]
  },
  {
   "cell_type": "code",
   "execution_count": 193,
   "id": "9bb964b8",
   "metadata": {},
   "outputs": [],
   "source": [
    "chkpt_callback = tf.keras.callbacks.ModelCheckpoint(\"dumped_models/mnist_{epoch:04d}_{val_accuracy:.4f}_{val_loss:.2f}.hdf5\")\n",
    "\n",
    "# progbarlogger\n",
    "progbar_callback = tf.keras.callbacks.ProgbarLogger(count_mode='steps')\n",
    "\n",
    "# CSVLogger\n",
    "csv_callback = tf.keras.callbacks.CSVLogger('dumped_models/training.log')\n",
    "\n",
    "# earlystopping\n",
    "earlystopping_callback = tf.keras.callbacks.EarlyStopping(patience=20)\n",
    "\n",
    "# LR scheduler\n",
    "def custom_scheduler_func(epoch, lr):\n",
    "    if epoch > 0 and epoch%10 == 0:\n",
    "        return lr*0.9\n",
    "    return lr\n",
    "\n",
    "lr_callback = tf.keras.callbacks.LearningRateScheduler(custom_scheduler_func, verbose=1)\n",
    "\n",
    "# tensorboard\n",
    "tb_callback = tf.keras.callbacks.TensorBoard('dumped_models/logs', update_freq=250)\n",
    "\n",
    "# RemoteMonitor\n",
    "remote_monitor_callback = tf.keras.callbacks.RemoteMonitor()\n",
    "\n",
    "# Reduce on plateau\n",
    "reduce_plateau_callback = tf.keras.callbacks.ReduceLROnPlateau(monitor='val_loss', factor=0.2, patience=10\n",
    "                                                              , verbose=1)\n",
    "\n",
    "callbacks = [chkpt_callback, earlystopping_callback, lr_callback, tb_callback, progbar_callback, csv_callback\n",
    "             , remote_monitor_callback, reduce_plateau_callback ]\n"
   ]
  },
  {
   "cell_type": "code",
   "execution_count": 194,
   "id": "36fba340",
   "metadata": {},
   "outputs": [
    {
     "name": "stdout",
     "output_type": "stream",
     "text": [
      "\n",
      "Epoch 00001: LearningRateScheduler reducing learning rate to 0.0010000000474974513.\n",
      "Epoch 1/50\n",
      "1500/1500 - 4s - loss: 1.5008 - accuracy: 0.4253 - val_loss: 0.7825 - val_accuracy: 0.7218 - lr: 0.0010\n",
      "WARNING:tensorflow:Warning: could not reach RemoteMonitor root server at http://localhost:9000\n",
      "\n",
      "Epoch 00002: LearningRateScheduler reducing learning rate to 0.0010000000474974513.\n",
      "Epoch 2/50\n",
      "1500/1500 - 3s - loss: 0.9329 - accuracy: 0.6675 - val_loss: 0.5741 - val_accuracy: 0.8128 - lr: 0.0010\n",
      "WARNING:tensorflow:Warning: could not reach RemoteMonitor root server at http://localhost:9000\n",
      "\n",
      "Epoch 00003: LearningRateScheduler reducing learning rate to 0.0010000000474974513.\n",
      "Epoch 3/50\n",
      "1500/1500 - 3s - loss: 0.7482 - accuracy: 0.7510 - val_loss: 0.4532 - val_accuracy: 0.8472 - lr: 0.0010\n",
      "WARNING:tensorflow:Warning: could not reach RemoteMonitor root server at http://localhost:9000\n",
      "\n",
      "Epoch 00004: LearningRateScheduler reducing learning rate to 0.0010000000474974513.\n",
      "Epoch 4/50\n",
      "1500/1500 - 4s - loss: 0.6427 - accuracy: 0.7879 - val_loss: 0.4230 - val_accuracy: 0.8478 - lr: 0.0010\n",
      "WARNING:tensorflow:Warning: could not reach RemoteMonitor root server at http://localhost:9000\n",
      "\n",
      "Epoch 00005: LearningRateScheduler reducing learning rate to 0.0010000000474974513.\n",
      "Epoch 5/50\n",
      "1500/1500 - 3s - loss: 0.5975 - accuracy: 0.8104 - val_loss: 0.3741 - val_accuracy: 0.9021 - lr: 0.0010\n",
      "WARNING:tensorflow:Warning: could not reach RemoteMonitor root server at http://localhost:9000\n",
      "\n",
      "Epoch 00006: LearningRateScheduler reducing learning rate to 0.0010000000474974513.\n",
      "Epoch 6/50\n",
      "1500/1500 - 3s - loss: 0.5225 - accuracy: 0.8635 - val_loss: 0.2836 - val_accuracy: 0.9388 - lr: 0.0010\n",
      "WARNING:tensorflow:Warning: could not reach RemoteMonitor root server at http://localhost:9000\n",
      "\n",
      "Epoch 00007: LearningRateScheduler reducing learning rate to 0.0010000000474974513.\n",
      "Epoch 7/50\n",
      "1500/1500 - 4s - loss: 0.4713 - accuracy: 0.8833 - val_loss: 0.2864 - val_accuracy: 0.9420 - lr: 0.0010\n",
      "WARNING:tensorflow:Warning: could not reach RemoteMonitor root server at http://localhost:9000\n",
      "\n",
      "Epoch 00008: LearningRateScheduler reducing learning rate to 0.0010000000474974513.\n",
      "Epoch 8/50\n",
      "1500/1500 - 3s - loss: 0.4528 - accuracy: 0.8895 - val_loss: 0.2349 - val_accuracy: 0.9507 - lr: 0.0010\n",
      "WARNING:tensorflow:Warning: could not reach RemoteMonitor root server at http://localhost:9000\n",
      "\n",
      "Epoch 00009: LearningRateScheduler reducing learning rate to 0.0010000000474974513.\n",
      "Epoch 9/50\n",
      "1500/1500 - 4s - loss: 0.4235 - accuracy: 0.8969 - val_loss: 0.2712 - val_accuracy: 0.9452 - lr: 0.0010\n",
      "WARNING:tensorflow:Warning: could not reach RemoteMonitor root server at http://localhost:9000\n",
      "\n",
      "Epoch 00010: LearningRateScheduler reducing learning rate to 0.0010000000474974513.\n",
      "Epoch 10/50\n",
      "1500/1500 - 4s - loss: 0.4027 - accuracy: 0.9026 - val_loss: 0.2451 - val_accuracy: 0.9524 - lr: 0.0010\n",
      "WARNING:tensorflow:Warning: could not reach RemoteMonitor root server at http://localhost:9000\n",
      "\n",
      "Epoch 00011: LearningRateScheduler reducing learning rate to 0.0009000000427477062.\n",
      "Epoch 11/50\n",
      "1500/1500 - 3s - loss: 0.3745 - accuracy: 0.9115 - val_loss: 0.2310 - val_accuracy: 0.9546 - lr: 9.0000e-04\n",
      "WARNING:tensorflow:Warning: could not reach RemoteMonitor root server at http://localhost:9000\n",
      "\n",
      "Epoch 00012: LearningRateScheduler reducing learning rate to 0.0009000000427477062.\n",
      "Epoch 12/50\n",
      "1500/1500 - 4s - loss: 0.3693 - accuracy: 0.9122 - val_loss: 0.2142 - val_accuracy: 0.9619 - lr: 9.0000e-04\n",
      "WARNING:tensorflow:Warning: could not reach RemoteMonitor root server at http://localhost:9000\n",
      "\n",
      "Epoch 00013: LearningRateScheduler reducing learning rate to 0.0009000000427477062.\n",
      "Epoch 13/50\n",
      "1500/1500 - 4s - loss: 0.3560 - accuracy: 0.9159 - val_loss: 0.2307 - val_accuracy: 0.9560 - lr: 9.0000e-04\n",
      "WARNING:tensorflow:Warning: could not reach RemoteMonitor root server at http://localhost:9000\n",
      "\n",
      "Epoch 00014: LearningRateScheduler reducing learning rate to 0.0009000000427477062.\n",
      "Epoch 14/50\n",
      "1500/1500 - 3s - loss: 0.3476 - accuracy: 0.9191 - val_loss: 0.2229 - val_accuracy: 0.9603 - lr: 9.0000e-04\n",
      "WARNING:tensorflow:Warning: could not reach RemoteMonitor root server at http://localhost:9000\n",
      "\n",
      "Epoch 00015: LearningRateScheduler reducing learning rate to 0.0009000000427477062.\n",
      "Epoch 15/50\n",
      "1500/1500 - 4s - loss: 0.3289 - accuracy: 0.9226 - val_loss: 0.2346 - val_accuracy: 0.9607 - lr: 9.0000e-04\n",
      "WARNING:tensorflow:Warning: could not reach RemoteMonitor root server at http://localhost:9000\n",
      "\n",
      "Epoch 00016: LearningRateScheduler reducing learning rate to 0.0009000000427477062.\n",
      "Epoch 16/50\n",
      "1500/1500 - 4s - loss: 0.3230 - accuracy: 0.9257 - val_loss: 0.2438 - val_accuracy: 0.9634 - lr: 9.0000e-04\n",
      "WARNING:tensorflow:Warning: could not reach RemoteMonitor root server at http://localhost:9000\n",
      "\n",
      "Epoch 00017: LearningRateScheduler reducing learning rate to 0.0009000000427477062.\n",
      "Epoch 17/50\n",
      "1500/1500 - 4s - loss: 0.3353 - accuracy: 0.9231 - val_loss: 0.2181 - val_accuracy: 0.9579 - lr: 9.0000e-04\n",
      "WARNING:tensorflow:Warning: could not reach RemoteMonitor root server at http://localhost:9000\n",
      "\n",
      "Epoch 00018: LearningRateScheduler reducing learning rate to 0.0009000000427477062.\n",
      "Epoch 18/50\n",
      "1500/1500 - 4s - loss: 0.3288 - accuracy: 0.9260 - val_loss: 0.2259 - val_accuracy: 0.9601 - lr: 9.0000e-04\n",
      "WARNING:tensorflow:Warning: could not reach RemoteMonitor root server at http://localhost:9000\n",
      "\n",
      "Epoch 00019: LearningRateScheduler reducing learning rate to 0.0009000000427477062.\n",
      "Epoch 19/50\n",
      "1500/1500 - 4s - loss: 0.3043 - accuracy: 0.9298 - val_loss: 0.2284 - val_accuracy: 0.9643 - lr: 9.0000e-04\n",
      "WARNING:tensorflow:Warning: could not reach RemoteMonitor root server at http://localhost:9000\n",
      "\n",
      "Epoch 00020: LearningRateScheduler reducing learning rate to 0.0009000000427477062.\n",
      "Epoch 20/50\n",
      "1500/1500 - 3s - loss: 0.2990 - accuracy: 0.9320 - val_loss: 0.2311 - val_accuracy: 0.9641 - lr: 9.0000e-04\n",
      "WARNING:tensorflow:Warning: could not reach RemoteMonitor root server at http://localhost:9000\n",
      "\n",
      "Epoch 00021: LearningRateScheduler reducing learning rate to 0.0008100000384729356.\n",
      "Epoch 21/50\n",
      "1500/1500 - 4s - loss: 0.2954 - accuracy: 0.9349 - val_loss: 0.2165 - val_accuracy: 0.9617 - lr: 8.1000e-04\n",
      "WARNING:tensorflow:Warning: could not reach RemoteMonitor root server at http://localhost:9000\n",
      "\n",
      "Epoch 00022: LearningRateScheduler reducing learning rate to 0.0008100000559352338.\n",
      "Epoch 22/50\n",
      "1500/1500 - 4s - loss: 0.2878 - accuracy: 0.9351 - val_loss: 0.2077 - val_accuracy: 0.9650 - lr: 8.1000e-04\n",
      "WARNING:tensorflow:Warning: could not reach RemoteMonitor root server at http://localhost:9000\n",
      "\n",
      "Epoch 00023: LearningRateScheduler reducing learning rate to 0.0008100000559352338.\n",
      "Epoch 23/50\n",
      "1500/1500 - 3s - loss: 0.2822 - accuracy: 0.9351 - val_loss: 0.2113 - val_accuracy: 0.9656 - lr: 8.1000e-04\n",
      "WARNING:tensorflow:Warning: could not reach RemoteMonitor root server at http://localhost:9000\n",
      "\n",
      "Epoch 00024: LearningRateScheduler reducing learning rate to 0.0008100000559352338.\n",
      "Epoch 24/50\n",
      "1500/1500 - 4s - loss: 0.2834 - accuracy: 0.9360 - val_loss: 0.2369 - val_accuracy: 0.9648 - lr: 8.1000e-04\n",
      "WARNING:tensorflow:Warning: could not reach RemoteMonitor root server at http://localhost:9000\n",
      "\n",
      "Epoch 00025: LearningRateScheduler reducing learning rate to 0.0008100000559352338.\n",
      "Epoch 25/50\n",
      "1500/1500 - 4s - loss: 0.2751 - accuracy: 0.9383 - val_loss: 0.2250 - val_accuracy: 0.9669 - lr: 8.1000e-04\n",
      "WARNING:tensorflow:Warning: could not reach RemoteMonitor root server at http://localhost:9000\n",
      "\n",
      "Epoch 00026: LearningRateScheduler reducing learning rate to 0.0008100000559352338.\n",
      "Epoch 26/50\n",
      "1500/1500 - 3s - loss: 0.2730 - accuracy: 0.9380 - val_loss: 0.1938 - val_accuracy: 0.9677 - lr: 8.1000e-04\n",
      "WARNING:tensorflow:Warning: could not reach RemoteMonitor root server at http://localhost:9000\n",
      "\n",
      "Epoch 00027: LearningRateScheduler reducing learning rate to 0.0008100000559352338.\n",
      "Epoch 27/50\n",
      "1500/1500 - 4s - loss: 0.2625 - accuracy: 0.9416 - val_loss: 0.2304 - val_accuracy: 0.9674 - lr: 8.1000e-04\n",
      "WARNING:tensorflow:Warning: could not reach RemoteMonitor root server at http://localhost:9000\n",
      "\n",
      "Epoch 00028: LearningRateScheduler reducing learning rate to 0.0008100000559352338.\n",
      "Epoch 28/50\n",
      "1500/1500 - 4s - loss: 0.2627 - accuracy: 0.9423 - val_loss: 0.2056 - val_accuracy: 0.9647 - lr: 8.1000e-04\n"
     ]
    },
    {
     "name": "stdout",
     "output_type": "stream",
     "text": [
      "WARNING:tensorflow:Warning: could not reach RemoteMonitor root server at http://localhost:9000\n",
      "\n",
      "Epoch 00029: LearningRateScheduler reducing learning rate to 0.0008100000559352338.\n",
      "Epoch 29/50\n",
      "1500/1500 - 3s - loss: 0.2669 - accuracy: 0.9404 - val_loss: 0.2025 - val_accuracy: 0.9678 - lr: 8.1000e-04\n",
      "WARNING:tensorflow:Warning: could not reach RemoteMonitor root server at http://localhost:9000\n",
      "\n",
      "Epoch 00030: LearningRateScheduler reducing learning rate to 0.0008100000559352338.\n",
      "Epoch 30/50\n",
      "1500/1500 - 4s - loss: 0.2562 - accuracy: 0.9425 - val_loss: 0.2285 - val_accuracy: 0.9643 - lr: 8.1000e-04\n",
      "WARNING:tensorflow:Warning: could not reach RemoteMonitor root server at http://localhost:9000\n",
      "\n",
      "Epoch 00031: LearningRateScheduler reducing learning rate to 0.0007290000503417104.\n",
      "Epoch 31/50\n",
      "1500/1500 - 4s - loss: 0.2475 - accuracy: 0.9442 - val_loss: 0.2037 - val_accuracy: 0.9690 - lr: 7.2900e-04\n",
      "WARNING:tensorflow:Warning: could not reach RemoteMonitor root server at http://localhost:9000\n",
      "\n",
      "Epoch 00032: LearningRateScheduler reducing learning rate to 0.0007290000794455409.\n",
      "Epoch 32/50\n",
      "1500/1500 - 3s - loss: 0.2541 - accuracy: 0.9431 - val_loss: 0.2005 - val_accuracy: 0.9666 - lr: 7.2900e-04\n",
      "WARNING:tensorflow:Warning: could not reach RemoteMonitor root server at http://localhost:9000\n",
      "\n",
      "Epoch 00033: LearningRateScheduler reducing learning rate to 0.0007290000794455409.\n",
      "Epoch 33/50\n",
      "1500/1500 - 3s - loss: 0.2491 - accuracy: 0.9435 - val_loss: 0.2095 - val_accuracy: 0.9670 - lr: 7.2900e-04\n",
      "WARNING:tensorflow:Warning: could not reach RemoteMonitor root server at http://localhost:9000\n",
      "\n",
      "Epoch 00034: LearningRateScheduler reducing learning rate to 0.0007290000794455409.\n",
      "Epoch 34/50\n",
      "1500/1500 - 3s - loss: 0.2429 - accuracy: 0.9467 - val_loss: 0.2084 - val_accuracy: 0.9662 - lr: 7.2900e-04\n",
      "WARNING:tensorflow:Warning: could not reach RemoteMonitor root server at http://localhost:9000\n",
      "\n",
      "Epoch 00035: LearningRateScheduler reducing learning rate to 0.0007290000794455409.\n",
      "Epoch 35/50\n",
      "1500/1500 - 3s - loss: 0.2385 - accuracy: 0.9460 - val_loss: 0.2163 - val_accuracy: 0.9655 - lr: 7.2900e-04\n",
      "WARNING:tensorflow:Warning: could not reach RemoteMonitor root server at http://localhost:9000\n",
      "\n",
      "Epoch 00036: LearningRateScheduler reducing learning rate to 0.0007290000794455409.\n",
      "Epoch 36/50\n",
      "1500/1500 - 3s - loss: 0.2328 - accuracy: 0.9491 - val_loss: 0.2203 - val_accuracy: 0.9663 - lr: 7.2900e-04\n",
      "WARNING:tensorflow:Warning: could not reach RemoteMonitor root server at http://localhost:9000\n",
      "\n",
      "Epoch 00036: ReduceLROnPlateau reducing learning rate to 0.0001458000158891082.\n",
      "\n",
      "Epoch 00037: LearningRateScheduler reducing learning rate to 0.00014580001879949123.\n",
      "Epoch 37/50\n",
      "1500/1500 - 4s - loss: 0.2204 - accuracy: 0.9525 - val_loss: 0.2193 - val_accuracy: 0.9697 - lr: 1.4580e-04\n",
      "WARNING:tensorflow:Warning: could not reach RemoteMonitor root server at http://localhost:9000\n",
      "\n",
      "Epoch 00038: LearningRateScheduler reducing learning rate to 0.00014580001879949123.\n",
      "Epoch 38/50\n",
      "1500/1500 - 4s - loss: 0.2083 - accuracy: 0.9550 - val_loss: 0.2278 - val_accuracy: 0.9697 - lr: 1.4580e-04\n",
      "WARNING:tensorflow:Warning: could not reach RemoteMonitor root server at http://localhost:9000\n",
      "\n",
      "Epoch 00039: LearningRateScheduler reducing learning rate to 0.00014580001879949123.\n",
      "Epoch 39/50\n",
      "1500/1500 - 3s - loss: 0.1981 - accuracy: 0.9560 - val_loss: 0.2345 - val_accuracy: 0.9689 - lr: 1.4580e-04\n",
      "WARNING:tensorflow:Warning: could not reach RemoteMonitor root server at http://localhost:9000\n",
      "\n",
      "Epoch 00040: LearningRateScheduler reducing learning rate to 0.00014580001879949123.\n",
      "Epoch 40/50\n",
      "1500/1500 - 4s - loss: 0.1971 - accuracy: 0.9581 - val_loss: 0.2272 - val_accuracy: 0.9692 - lr: 1.4580e-04\n",
      "WARNING:tensorflow:Warning: could not reach RemoteMonitor root server at http://localhost:9000\n",
      "\n",
      "Epoch 00041: LearningRateScheduler reducing learning rate to 0.0001312200169195421.\n",
      "Epoch 41/50\n",
      "1500/1500 - 3s - loss: 0.1932 - accuracy: 0.9566 - val_loss: 0.2394 - val_accuracy: 0.9693 - lr: 1.3122e-04\n",
      "WARNING:tensorflow:Warning: could not reach RemoteMonitor root server at http://localhost:9000\n",
      "\n",
      "Epoch 00042: LearningRateScheduler reducing learning rate to 0.00013122001837473363.\n",
      "Epoch 42/50\n",
      "1500/1500 - 4s - loss: 0.1864 - accuracy: 0.9586 - val_loss: 0.2464 - val_accuracy: 0.9700 - lr: 1.3122e-04\n",
      "WARNING:tensorflow:Warning: could not reach RemoteMonitor root server at http://localhost:9000\n",
      "\n",
      "Epoch 00043: LearningRateScheduler reducing learning rate to 0.00013122001837473363.\n",
      "Epoch 43/50\n",
      "1500/1500 - 4s - loss: 0.1837 - accuracy: 0.9604 - val_loss: 0.2553 - val_accuracy: 0.9704 - lr: 1.3122e-04\n",
      "WARNING:tensorflow:Warning: could not reach RemoteMonitor root server at http://localhost:9000\n",
      "\n",
      "Epoch 00044: LearningRateScheduler reducing learning rate to 0.00013122001837473363.\n",
      "Epoch 44/50\n",
      "1500/1500 - 3s - loss: 0.1864 - accuracy: 0.9598 - val_loss: 0.2524 - val_accuracy: 0.9709 - lr: 1.3122e-04\n",
      "WARNING:tensorflow:Warning: could not reach RemoteMonitor root server at http://localhost:9000\n",
      "\n",
      "Epoch 00045: LearningRateScheduler reducing learning rate to 0.00013122001837473363.\n",
      "Epoch 45/50\n",
      "1500/1500 - 4s - loss: 0.1787 - accuracy: 0.9602 - val_loss: 0.2403 - val_accuracy: 0.9718 - lr: 1.3122e-04\n",
      "WARNING:tensorflow:Warning: could not reach RemoteMonitor root server at http://localhost:9000\n",
      "\n",
      "Epoch 00046: LearningRateScheduler reducing learning rate to 0.00013122001837473363.\n",
      "Epoch 46/50\n",
      "1500/1500 - 4s - loss: 0.1848 - accuracy: 0.9602 - val_loss: 0.2340 - val_accuracy: 0.9712 - lr: 1.3122e-04\n",
      "WARNING:tensorflow:Warning: could not reach RemoteMonitor root server at http://localhost:9000\n",
      "\n",
      "Epoch 00046: ReduceLROnPlateau reducing learning rate to 2.6244003674946728e-05.\n",
      "CPU times: user 5min 8s, sys: 32.7 s, total: 5min 41s\n",
      "Wall time: 2min 43s\n"
     ]
    }
   ],
   "source": [
    "%%time\n",
    "history = model.fit(x_train, y_train_enc.numpy(), batch_size=32, epochs=50, verbose=2, validation_split=0.2\n",
    "                    , callbacks=callbacks)"
   ]
  },
  {
   "cell_type": "code",
   "execution_count": 178,
   "id": "702cf2bd",
   "metadata": {},
   "outputs": [
    {
     "name": "stdout",
     "output_type": "stream",
     "text": [
      "INFO:tensorflow:Assets written to: dumped_models/tmp_mnist_model/assets\n"
     ]
    }
   ],
   "source": [
    "model.save('dumped_models/tmp_mnist_model')"
   ]
  },
  {
   "cell_type": "code",
   "execution_count": 15,
   "id": "0dace22f",
   "metadata": {},
   "outputs": [
    {
     "name": "stdout",
     "output_type": "stream",
     "text": [
      "313/313 [==============================] - 0s 1ms/step - loss: 0.1270 - accuracy: 0.9647\n"
     ]
    },
    {
     "data": {
      "text/plain": [
       "[0.1270398050546646, 0.9646999835968018]"
      ]
     },
     "execution_count": 15,
     "metadata": {},
     "output_type": "execute_result"
    }
   ],
   "source": [
    "model.evaluate(x_test,y_test)"
   ]
  },
  {
   "cell_type": "code",
   "execution_count": 16,
   "id": "c0e8801c",
   "metadata": {},
   "outputs": [
    {
     "name": "stdout",
     "output_type": "stream",
     "text": [
      "1/1 [==============================] - 0s 18ms/step - loss: 4.4107e-06 - accuracy: 1.0000\n"
     ]
    },
    {
     "data": {
      "text/plain": [
       "[4.410734163684538e-06, 1.0]"
      ]
     },
     "execution_count": 16,
     "metadata": {},
     "output_type": "execute_result"
    }
   ],
   "source": [
    "model.evaluate(x_test[:1], y_test[:1])"
   ]
  },
  {
   "cell_type": "code",
   "execution_count": 19,
   "id": "2404becc",
   "metadata": {},
   "outputs": [],
   "source": [
    "y_pred = model.predict(x_test)"
   ]
  },
  {
   "cell_type": "code",
   "execution_count": 21,
   "id": "167e25eb",
   "metadata": {},
   "outputs": [
    {
     "data": {
      "text/plain": [
       "array([7, 2, 1, 0, 4, 1, 4, 9, 5, 9], dtype=uint8)"
      ]
     },
     "execution_count": 21,
     "metadata": {},
     "output_type": "execute_result"
    }
   ],
   "source": [
    "y_test[:10]"
   ]
  },
  {
   "cell_type": "code",
   "execution_count": 29,
   "id": "1fce085f",
   "metadata": {},
   "outputs": [
    {
     "data": {
      "text/plain": [
       "array([7, 2, 1, 0, 4, 1, 4, 9, 6, 9])"
      ]
     },
     "execution_count": 29,
     "metadata": {},
     "output_type": "execute_result"
    }
   ],
   "source": [
    "import numpy as np\n",
    "class_idx = np.argmax( y_pred[:10], axis=1)\n",
    "class_idx"
   ]
  },
  {
   "cell_type": "code",
   "execution_count": null,
   "id": "455cfb7c",
   "metadata": {},
   "outputs": [],
   "source": []
  }
 ],
 "metadata": {
  "kernelspec": {
   "display_name": "Python 3",
   "language": "python",
   "name": "python3"
  },
  "language_info": {
   "codemirror_mode": {
    "name": "ipython",
    "version": 3
   },
   "file_extension": ".py",
   "mimetype": "text/x-python",
   "name": "python",
   "nbconvert_exporter": "python",
   "pygments_lexer": "ipython3",
   "version": "3.8.8"
  }
 },
 "nbformat": 4,
 "nbformat_minor": 5
}
