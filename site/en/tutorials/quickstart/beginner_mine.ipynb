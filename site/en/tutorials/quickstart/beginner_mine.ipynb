{
 "cells": [
  {
   "cell_type": "markdown",
   "id": "c9eb43f5",
   "metadata": {},
   "source": [
    "### Do refer to the original notebook for a different interesting implementation"
   ]
  },
  {
   "cell_type": "code",
   "execution_count": 1,
   "id": "1afff34d",
   "metadata": {},
   "outputs": [
    {
     "name": "stdout",
     "output_type": "stream",
     "text": [
      "# conda environments:\r\n",
      "#\r\n",
      "base                     /home/aman/anaconda3\r\n",
      "tf_gpu                *  /home/aman/anaconda3/envs/tf_gpu\r\n",
      "\r\n"
     ]
    }
   ],
   "source": [
    "!conda env list"
   ]
  },
  {
   "cell_type": "code",
   "execution_count": 2,
   "id": "7087a369",
   "metadata": {},
   "outputs": [],
   "source": [
    "import tensorflow as tf\n",
    "from tensorflow import keras"
   ]
  },
  {
   "cell_type": "code",
   "execution_count": 3,
   "id": "f83f32df",
   "metadata": {},
   "outputs": [
    {
     "data": {
      "text/plain": [
       "[PhysicalDevice(name='/physical_device:CPU:0', device_type='CPU'),\n",
       " PhysicalDevice(name='/physical_device:GPU:0', device_type='GPU')]"
      ]
     },
     "execution_count": 3,
     "metadata": {},
     "output_type": "execute_result"
    }
   ],
   "source": [
    "tf.config.list_physical_devices()\n",
    "# tf.config.list_logical_devices()\n"
   ]
  },
  {
   "cell_type": "code",
   "execution_count": 4,
   "id": "23ae5c57",
   "metadata": {},
   "outputs": [],
   "source": [
    "data = keras.datasets.mnist.load_data()"
   ]
  },
  {
   "cell_type": "code",
   "execution_count": 5,
   "id": "44ba1fbf",
   "metadata": {},
   "outputs": [],
   "source": [
    "type(data[0][0]) # tuple\n",
    "len(data) # 2\n",
    "len(data[0]) # 2\n",
    "len(data[0][0]) # 60000\n",
    "type(data[0][0]) # numpy.ndarray()\n",
    "data[0][0].shape # (60000, 28, 28)\n",
    "(x_train, y_train), (x_test, y_test) = data"
   ]
  },
  {
   "cell_type": "code",
   "execution_count": 6,
   "id": "63c95a11",
   "metadata": {},
   "outputs": [
    {
     "data": {
      "text/plain": [
       "(10000,)"
      ]
     },
     "execution_count": 6,
     "metadata": {},
     "output_type": "execute_result"
    }
   ],
   "source": [
    "x_train.shape\n",
    "x_test.shape\n",
    "y_train.shape\n",
    "y_test.shape\n"
   ]
  },
  {
   "cell_type": "code",
   "execution_count": 7,
   "id": "f978a4f1",
   "metadata": {},
   "outputs": [
    {
     "data": {
      "text/plain": [
       "[5, 0, 4, 1, 9]"
      ]
     },
     "execution_count": 7,
     "metadata": {},
     "output_type": "execute_result"
    }
   ],
   "source": [
    "list(y_train[:5])"
   ]
  },
  {
   "cell_type": "code",
   "execution_count": 8,
   "id": "05790826",
   "metadata": {},
   "outputs": [
    {
     "data": {
      "text/plain": [
       "(60000,)"
      ]
     },
     "execution_count": 8,
     "metadata": {},
     "output_type": "execute_result"
    }
   ],
   "source": [
    "y_train.shape\n",
    "# x_train.shape"
   ]
  },
  {
   "cell_type": "code",
   "execution_count": 12,
   "id": "fcc12f32",
   "metadata": {},
   "outputs": [],
   "source": [
    "encoding_layer = tf.keras.layers.experimental.preprocessing.CategoryEncoding(num_tokens=10, output_mode='one_hot')\n",
    "y_train_enc = encoding_layer(list(y_train))\n",
    "y_test_enc = encoding_layer(list(y_test))\n",
    "# encoding_layer([3,2,1,0])\n"
   ]
  },
  {
   "cell_type": "code",
   "execution_count": 13,
   "id": "eade9530",
   "metadata": {},
   "outputs": [
    {
     "data": {
      "text/plain": [
       "TensorShape([60000, 10])"
      ]
     },
     "execution_count": 13,
     "metadata": {},
     "output_type": "execute_result"
    }
   ],
   "source": [
    "y_train_enc.shape\n"
   ]
  },
  {
   "cell_type": "code",
   "execution_count": 14,
   "id": "583a7903",
   "metadata": {},
   "outputs": [],
   "source": [
    "# normalize\n",
    "x_train = x_train/255.\n",
    "x_test = x_test/255."
   ]
  },
  {
   "cell_type": "code",
   "execution_count": 15,
   "id": "6e8c8c97",
   "metadata": {},
   "outputs": [],
   "source": [
    "# simplistic models can have high Dropout(0.5). \n",
    "# Since this model is a more sophisticated version, reduced dropout to 0.25 to reduce bias.\n",
    "dr = 0.25\n",
    "model = tf.keras.Sequential([\n",
    "    tf.keras.layers.Flatten(input_shape=(28, 28)),\n",
    "    tf.keras.layers.Dense(128, activation='relu'),\n",
    "    tf.keras.layers.Dropout(dr),\n",
    "    tf.keras.layers.Dense(128, activation='relu'),\n",
    "    tf.keras.layers.Dropout(dr),\n",
    "    tf.keras.layers.Dense(64, activation='relu'),\n",
    "    tf.keras.layers.Dropout(dr),\n",
    "    tf.keras.layers.Dense(64, activation='relu'),\n",
    "    tf.keras.layers.Dropout(dr),\n",
    "    tf.keras.layers.Dense(32, activation='relu'),\n",
    "    tf.keras.layers.Dropout(dr),\n",
    "    tf.keras.layers.Dense(32, activation='relu'),\n",
    "    tf.keras.layers.Dropout(dr),\n",
    "    tf.keras.layers.Dense(16, activation='relu'),\n",
    "    tf.keras.layers.Dropout(dr),\n",
    "    tf.keras.layers.Dense(16, activation='relu'),\n",
    "    tf.keras.layers.Dropout(dr),\n",
    "    tf.keras.layers.Dense(10, activation='softmax'),\n",
    "])"
   ]
  },
  {
   "cell_type": "code",
   "execution_count": 16,
   "id": "a8d84d72",
   "metadata": {},
   "outputs": [],
   "source": [
    "adam_optimizer = tf.keras.optimizers.Adam(learning_rate=0.001, beta_1=0.9, beta_2=0.999, epsilon=1e-07)"
   ]
  },
  {
   "cell_type": "markdown",
   "id": "732c4ed1",
   "metadata": {},
   "source": [
    "### Use -\n",
    "* bin cross ent -> single/two classes</br>\n",
    "* cat. CE -> multiple classes\n",
    "* sparse cat. CE -> a convenience function with added functionality over cat. CE where you only specify the integer index of the class "
   ]
  },
  {
   "cell_type": "markdown",
   "id": "2e350b9f",
   "metadata": {},
   "source": [
    "### sparse_categorical_crossentropy and CategoricalAccuracy to be used with y_train only as shown below"
   ]
  },
  {
   "cell_type": "code",
   "execution_count": 17,
   "id": "1407eebf",
   "metadata": {},
   "outputs": [],
   "source": [
    "if 0:\n",
    "    model.compile(optimizer='adam', loss='sparse_categorical_crossentropy'#, metrics=['accuracy'] )\n",
    "              , metrics=[tf.keras.metrics.CategoricalAccuracy() ] )\n",
    "    model.fit(x_train, y_train, batch_size=32, epochs=5)"
   ]
  },
  {
   "cell_type": "code",
   "execution_count": 18,
   "id": "cdce7e39",
   "metadata": {},
   "outputs": [],
   "source": [
    "model.compile(optimizer=adam_optimizer, loss='categorical_crossentropy', metrics=['accuracy'] )\n",
    "#               , metrics=[tf.keras.metrics.CategoricalAccuracy() ] )\n",
    "#                          , tf.keras.metrics.AUC() \\\n",
    "#                          , tf.keras.metrics.Precision(), tf.keras.metrics.Recall() ] )\n",
    "#                          , tf.keras.metrics.RecallAtPrecision() \\\n",
    "#                         , tf.keras.metrics.PrecisionAtRecall()])"
   ]
  },
  {
   "cell_type": "code",
   "execution_count": 19,
   "id": "95695742",
   "metadata": {},
   "outputs": [
    {
     "name": "stdout",
     "output_type": "stream",
     "text": [
      "Requirement already satisfied: pydot in /home/aman/anaconda3/envs/tf_gpu/lib/python3.8/site-packages (1.4.2)\r\n",
      "Requirement already satisfied: pyparsing>=2.1.4 in /home/aman/anaconda3/envs/tf_gpu/lib/python3.8/site-packages (from pydot) (2.4.7)\r\n"
     ]
    }
   ],
   "source": [
    "!pip install pydot"
   ]
  },
  {
   "cell_type": "code",
   "execution_count": 20,
   "id": "cbc86920",
   "metadata": {},
   "outputs": [
    {
     "name": "stdout",
     "output_type": "stream",
     "text": [
      "('You must install pydot (`pip install pydot`) and install graphviz (see instructions at https://graphviz.gitlab.io/download/) ', 'for plot_model/model_to_dot to work.')\n"
     ]
    }
   ],
   "source": [
    "keras.utils.plot_model(model, to_file='dumped_models/model.png', show_shapes=True, show_dtype=True,)"
   ]
  },
  {
   "cell_type": "code",
   "execution_count": 21,
   "id": "e62dc09c",
   "metadata": {},
   "outputs": [
    {
     "name": "stdout",
     "output_type": "stream",
     "text": [
      "Model: \"sequential\"\n",
      "_________________________________________________________________\n",
      "Layer (type)                 Output Shape              Param #   \n",
      "=================================================================\n",
      "flatten (Flatten)            (None, 784)               0         \n",
      "_________________________________________________________________\n",
      "dense (Dense)                (None, 128)               100480    \n",
      "_________________________________________________________________\n",
      "dropout (Dropout)            (None, 128)               0         \n",
      "_________________________________________________________________\n",
      "dense_1 (Dense)              (None, 128)               16512     \n",
      "_________________________________________________________________\n",
      "dropout_1 (Dropout)          (None, 128)               0         \n",
      "_________________________________________________________________\n",
      "dense_2 (Dense)              (None, 64)                8256      \n",
      "_________________________________________________________________\n",
      "dropout_2 (Dropout)          (None, 64)                0         \n",
      "_________________________________________________________________\n",
      "dense_3 (Dense)              (None, 64)                4160      \n",
      "_________________________________________________________________\n",
      "dropout_3 (Dropout)          (None, 64)                0         \n",
      "_________________________________________________________________\n",
      "dense_4 (Dense)              (None, 32)                2080      \n",
      "_________________________________________________________________\n",
      "dropout_4 (Dropout)          (None, 32)                0         \n",
      "_________________________________________________________________\n",
      "dense_5 (Dense)              (None, 32)                1056      \n",
      "_________________________________________________________________\n",
      "dropout_5 (Dropout)          (None, 32)                0         \n",
      "_________________________________________________________________\n",
      "dense_6 (Dense)              (None, 16)                528       \n",
      "_________________________________________________________________\n",
      "dropout_6 (Dropout)          (None, 16)                0         \n",
      "_________________________________________________________________\n",
      "dense_7 (Dense)              (None, 16)                272       \n",
      "_________________________________________________________________\n",
      "dropout_7 (Dropout)          (None, 16)                0         \n",
      "_________________________________________________________________\n",
      "dense_8 (Dense)              (None, 10)                170       \n",
      "=================================================================\n",
      "Total params: 133,514\n",
      "Trainable params: 133,514\n",
      "Non-trainable params: 0\n",
      "_________________________________________________________________\n"
     ]
    }
   ],
   "source": [
    "model.summary()"
   ]
  },
  {
   "cell_type": "code",
   "execution_count": 22,
   "id": "6a326958",
   "metadata": {},
   "outputs": [
    {
     "name": "stdout",
     "output_type": "stream",
     "text": [
      "/home/aman/Desktop/projects/repos/tutorials/docs/site/en/tutorials/quickstart\r\n"
     ]
    }
   ],
   "source": [
    "y_train[0]\n",
    "type(y_train_enc.numpy())\n",
    "type(x_train)\n",
    "0.95**50\n",
    "\n",
    "tf.math.exp(-0.1)\n",
    "0.9**10\n",
    "0.9**25\n",
    "!pwd"
   ]
  },
  {
   "cell_type": "code",
   "execution_count": 23,
   "id": "94d26107",
   "metadata": {},
   "outputs": [],
   "source": [
    "chkpt_callback = tf.keras.callbacks.ModelCheckpoint(\"dumped_models/mnist_{epoch:04d}_{val_accuracy:.4f}_{val_loss:.2f}.hdf5\")\n",
    "\n",
    "# progbarlogger\n",
    "progbar_callback = tf.keras.callbacks.ProgbarLogger(count_mode='steps')\n",
    "\n",
    "# CSVLogger\n",
    "csv_callback = tf.keras.callbacks.CSVLogger('dumped_models/training.log')\n",
    "\n",
    "# earlystopping\n",
    "earlystopping_callback = tf.keras.callbacks.EarlyStopping(patience=20)\n",
    "\n",
    "# LR scheduler\n",
    "def custom_scheduler_func(epoch, lr):\n",
    "    if epoch > 0 and epoch%10 == 0:\n",
    "        return lr*0.9\n",
    "    return lr\n",
    "\n",
    "lr_callback = tf.keras.callbacks.LearningRateScheduler(custom_scheduler_func, verbose=1)\n",
    "\n",
    "# tensorboard\n",
    "tb_callback = tf.keras.callbacks.TensorBoard('dumped_models/logs', update_freq=250)\n",
    "\n",
    "# RemoteMonitor\n",
    "remote_monitor_callback = tf.keras.callbacks.RemoteMonitor()\n",
    "\n",
    "# Reduce on plateau\n",
    "reduce_plateau_callback = tf.keras.callbacks.ReduceLROnPlateau(monitor='val_loss', factor=0.2, patience=10\n",
    "                                                              , verbose=1)\n",
    "\n",
    "callbacks = [chkpt_callback, earlystopping_callback, lr_callback, tb_callback, progbar_callback, csv_callback\n",
    "             , remote_monitor_callback, reduce_plateau_callback ]\n"
   ]
  },
  {
   "cell_type": "code",
   "execution_count": 24,
   "id": "664aa358",
   "metadata": {},
   "outputs": [
    {
     "data": {
      "text/plain": [
       "(60000, 10)"
      ]
     },
     "execution_count": 24,
     "metadata": {},
     "output_type": "execute_result"
    }
   ],
   "source": [
    "y_train_enc.numpy().shape"
   ]
  },
  {
   "cell_type": "code",
   "execution_count": 25,
   "id": "1c4b8943",
   "metadata": {},
   "outputs": [
    {
     "name": "stdout",
     "output_type": "stream",
     "text": [
      "\n",
      "Epoch 00001: LearningRateScheduler setting learning rate to 0.0010000000474974513.\n",
      "Epoch 1/50\n",
      "1500/1500 - 3s - loss: 1.4903 - accuracy: 0.4407 - val_loss: 0.8328 - val_accuracy: 0.6691 - lr: 0.0010\n",
      "WARNING:tensorflow:Warning: could not reach RemoteMonitor root server at http://localhost:9000\n",
      "\n",
      "Epoch 00002: LearningRateScheduler setting learning rate to 0.0010000000474974513.\n",
      "Epoch 2/50\n",
      "1500/1500 - 2s - loss: 0.9117 - accuracy: 0.6639 - val_loss: 0.5411 - val_accuracy: 0.7884 - lr: 0.0010\n",
      "WARNING:tensorflow:Warning: could not reach RemoteMonitor root server at http://localhost:9000\n",
      "\n",
      "Epoch 00003: LearningRateScheduler setting learning rate to 0.0010000000474974513.\n",
      "Epoch 3/50\n",
      "1500/1500 - 2s - loss: 0.7378 - accuracy: 0.7305 - val_loss: 0.4362 - val_accuracy: 0.8335 - lr: 0.0010\n",
      "WARNING:tensorflow:Warning: could not reach RemoteMonitor root server at http://localhost:9000\n",
      "\n",
      "Epoch 00004: LearningRateScheduler setting learning rate to 0.0010000000474974513.\n",
      "Epoch 4/50\n",
      "1500/1500 - 2s - loss: 0.6326 - accuracy: 0.7794 - val_loss: 0.3814 - val_accuracy: 0.8622 - lr: 0.0010\n",
      "WARNING:tensorflow:Warning: could not reach RemoteMonitor root server at http://localhost:9000\n",
      "\n",
      "Epoch 00005: LearningRateScheduler setting learning rate to 0.0010000000474974513.\n",
      "Epoch 5/50\n",
      "1500/1500 - 2s - loss: 0.5767 - accuracy: 0.8045 - val_loss: 0.3722 - val_accuracy: 0.8643 - lr: 0.0010\n",
      "WARNING:tensorflow:Warning: could not reach RemoteMonitor root server at http://localhost:9000\n",
      "\n",
      "Epoch 00006: LearningRateScheduler setting learning rate to 0.0010000000474974513.\n",
      "Epoch 6/50\n",
      "1500/1500 - 2s - loss: 0.5385 - accuracy: 0.8204 - val_loss: 0.3734 - val_accuracy: 0.8678 - lr: 0.0010\n",
      "WARNING:tensorflow:Warning: could not reach RemoteMonitor root server at http://localhost:9000\n",
      "\n",
      "Epoch 00007: LearningRateScheduler setting learning rate to 0.0010000000474974513.\n",
      "Epoch 7/50\n",
      "1500/1500 - 2s - loss: 0.4993 - accuracy: 0.8359 - val_loss: 0.3365 - val_accuracy: 0.9077 - lr: 0.0010\n",
      "WARNING:tensorflow:Warning: could not reach RemoteMonitor root server at http://localhost:9000\n",
      "\n",
      "Epoch 00008: LearningRateScheduler setting learning rate to 0.0010000000474974513.\n",
      "Epoch 8/50\n",
      "1500/1500 - 2s - loss: 0.4738 - accuracy: 0.8538 - val_loss: 0.3141 - val_accuracy: 0.9331 - lr: 0.0010\n",
      "WARNING:tensorflow:Warning: could not reach RemoteMonitor root server at http://localhost:9000\n",
      "\n",
      "Epoch 00009: LearningRateScheduler setting learning rate to 0.0010000000474974513.\n",
      "Epoch 9/50\n",
      "1500/1500 - 2s - loss: 0.4525 - accuracy: 0.8747 - val_loss: 0.2845 - val_accuracy: 0.9452 - lr: 0.0010\n",
      "WARNING:tensorflow:Warning: could not reach RemoteMonitor root server at http://localhost:9000\n",
      "\n",
      "Epoch 00010: LearningRateScheduler setting learning rate to 0.0010000000474974513.\n",
      "Epoch 10/50\n",
      "1500/1500 - 2s - loss: 0.4245 - accuracy: 0.8884 - val_loss: 0.2856 - val_accuracy: 0.9456 - lr: 0.0010\n",
      "WARNING:tensorflow:Warning: could not reach RemoteMonitor root server at http://localhost:9000\n",
      "\n",
      "Epoch 00011: LearningRateScheduler setting learning rate to 0.0009000000427477062.\n",
      "Epoch 11/50\n",
      "1500/1500 - 2s - loss: 0.3787 - accuracy: 0.9033 - val_loss: 0.2700 - val_accuracy: 0.9516 - lr: 9.0000e-04\n",
      "WARNING:tensorflow:Warning: could not reach RemoteMonitor root server at http://localhost:9000\n",
      "\n",
      "Epoch 00012: LearningRateScheduler setting learning rate to 0.0009000000427477062.\n",
      "Epoch 12/50\n",
      "1500/1500 - 2s - loss: 0.3686 - accuracy: 0.9077 - val_loss: 0.2444 - val_accuracy: 0.9494 - lr: 9.0000e-04\n",
      "WARNING:tensorflow:Warning: could not reach RemoteMonitor root server at http://localhost:9000\n",
      "\n",
      "Epoch 00013: LearningRateScheduler setting learning rate to 0.0009000000427477062.\n",
      "Epoch 13/50\n",
      "1500/1500 - 2s - loss: 0.3632 - accuracy: 0.9107 - val_loss: 0.2320 - val_accuracy: 0.9588 - lr: 9.0000e-04\n",
      "WARNING:tensorflow:Warning: could not reach RemoteMonitor root server at http://localhost:9000\n",
      "\n",
      "Epoch 00014: LearningRateScheduler setting learning rate to 0.0009000000427477062.\n",
      "Epoch 14/50\n",
      "1500/1500 - 2s - loss: 0.3549 - accuracy: 0.9106 - val_loss: 0.2339 - val_accuracy: 0.9557 - lr: 9.0000e-04\n",
      "WARNING:tensorflow:Warning: could not reach RemoteMonitor root server at http://localhost:9000\n",
      "\n",
      "Epoch 00015: LearningRateScheduler setting learning rate to 0.0009000000427477062.\n",
      "Epoch 15/50\n",
      "1500/1500 - 2s - loss: 0.3436 - accuracy: 0.9195 - val_loss: 0.2637 - val_accuracy: 0.9596 - lr: 9.0000e-04\n",
      "WARNING:tensorflow:Warning: could not reach RemoteMonitor root server at http://localhost:9000\n",
      "\n",
      "Epoch 00016: LearningRateScheduler setting learning rate to 0.0009000000427477062.\n",
      "Epoch 16/50\n",
      "1500/1500 - 2s - loss: 0.3314 - accuracy: 0.9208 - val_loss: 0.2428 - val_accuracy: 0.9589 - lr: 9.0000e-04\n",
      "WARNING:tensorflow:Warning: could not reach RemoteMonitor root server at http://localhost:9000\n",
      "\n",
      "Epoch 00017: LearningRateScheduler setting learning rate to 0.0009000000427477062.\n",
      "Epoch 17/50\n",
      "1500/1500 - 2s - loss: 0.3209 - accuracy: 0.9220 - val_loss: 0.2365 - val_accuracy: 0.9576 - lr: 9.0000e-04\n",
      "WARNING:tensorflow:Warning: could not reach RemoteMonitor root server at http://localhost:9000\n",
      "\n",
      "Epoch 00018: LearningRateScheduler setting learning rate to 0.0009000000427477062.\n",
      "Epoch 18/50\n",
      "1500/1500 - 2s - loss: 0.3043 - accuracy: 0.9269 - val_loss: 0.2451 - val_accuracy: 0.9555 - lr: 9.0000e-04\n",
      "WARNING:tensorflow:Warning: could not reach RemoteMonitor root server at http://localhost:9000\n",
      "\n",
      "Epoch 00019: LearningRateScheduler setting learning rate to 0.0009000000427477062.\n",
      "Epoch 19/50\n",
      "1500/1500 - 2s - loss: 0.3152 - accuracy: 0.9241 - val_loss: 0.2290 - val_accuracy: 0.9607 - lr: 9.0000e-04\n",
      "WARNING:tensorflow:Warning: could not reach RemoteMonitor root server at http://localhost:9000\n",
      "\n",
      "Epoch 00020: LearningRateScheduler setting learning rate to 0.0009000000427477062.\n",
      "Epoch 20/50\n",
      "1500/1500 - 2s - loss: 0.2963 - accuracy: 0.9270 - val_loss: 0.2251 - val_accuracy: 0.9623 - lr: 9.0000e-04\n",
      "WARNING:tensorflow:Warning: could not reach RemoteMonitor root server at http://localhost:9000\n",
      "\n",
      "Epoch 00021: LearningRateScheduler setting learning rate to 0.0008100000384729356.\n",
      "Epoch 21/50\n",
      "1500/1500 - 2s - loss: 0.2872 - accuracy: 0.9309 - val_loss: 0.2211 - val_accuracy: 0.9629 - lr: 8.1000e-04\n",
      "WARNING:tensorflow:Warning: could not reach RemoteMonitor root server at http://localhost:9000\n",
      "\n",
      "Epoch 00022: LearningRateScheduler setting learning rate to 0.0008100000559352338.\n",
      "Epoch 22/50\n",
      "1500/1500 - 2s - loss: 0.2838 - accuracy: 0.9321 - val_loss: 0.2167 - val_accuracy: 0.9618 - lr: 8.1000e-04\n",
      "WARNING:tensorflow:Warning: could not reach RemoteMonitor root server at http://localhost:9000\n",
      "\n",
      "Epoch 00023: LearningRateScheduler setting learning rate to 0.0008100000559352338.\n",
      "Epoch 23/50\n",
      "1500/1500 - 2s - loss: 0.2807 - accuracy: 0.9315 - val_loss: 0.2817 - val_accuracy: 0.9617 - lr: 8.1000e-04\n",
      "WARNING:tensorflow:Warning: could not reach RemoteMonitor root server at http://localhost:9000\n",
      "\n",
      "Epoch 00024: LearningRateScheduler setting learning rate to 0.0008100000559352338.\n",
      "Epoch 24/50\n",
      "1500/1500 - 2s - loss: 0.2744 - accuracy: 0.9345 - val_loss: 0.2280 - val_accuracy: 0.9659 - lr: 8.1000e-04\n",
      "WARNING:tensorflow:Warning: could not reach RemoteMonitor root server at http://localhost:9000\n",
      "\n",
      "Epoch 00025: LearningRateScheduler setting learning rate to 0.0008100000559352338.\n",
      "Epoch 25/50\n",
      "1500/1500 - 2s - loss: 0.2698 - accuracy: 0.9347 - val_loss: 0.2178 - val_accuracy: 0.9644 - lr: 8.1000e-04\n",
      "WARNING:tensorflow:Warning: could not reach RemoteMonitor root server at http://localhost:9000\n",
      "\n",
      "Epoch 00026: LearningRateScheduler setting learning rate to 0.0008100000559352338.\n",
      "Epoch 26/50\n",
      "1500/1500 - 2s - loss: 0.2561 - accuracy: 0.9376 - val_loss: 0.2572 - val_accuracy: 0.9653 - lr: 8.1000e-04\n",
      "WARNING:tensorflow:Warning: could not reach RemoteMonitor root server at http://localhost:9000\n",
      "\n",
      "Epoch 00027: LearningRateScheduler setting learning rate to 0.0008100000559352338.\n",
      "Epoch 27/50\n",
      "1500/1500 - 2s - loss: 0.2552 - accuracy: 0.9389 - val_loss: 0.2461 - val_accuracy: 0.9675 - lr: 8.1000e-04\n",
      "WARNING:tensorflow:Warning: could not reach RemoteMonitor root server at http://localhost:9000\n",
      "\n",
      "Epoch 00028: LearningRateScheduler setting learning rate to 0.0008100000559352338.\n",
      "Epoch 28/50\n",
      "1500/1500 - 2s - loss: 0.2629 - accuracy: 0.9376 - val_loss: 0.2413 - val_accuracy: 0.9668 - lr: 8.1000e-04\n"
     ]
    },
    {
     "name": "stdout",
     "output_type": "stream",
     "text": [
      "WARNING:tensorflow:Warning: could not reach RemoteMonitor root server at http://localhost:9000\n",
      "\n",
      "Epoch 00029: LearningRateScheduler setting learning rate to 0.0008100000559352338.\n",
      "Epoch 29/50\n",
      "1500/1500 - 2s - loss: 0.2532 - accuracy: 0.9396 - val_loss: 0.2366 - val_accuracy: 0.9655 - lr: 8.1000e-04\n",
      "WARNING:tensorflow:Warning: could not reach RemoteMonitor root server at http://localhost:9000\n",
      "\n",
      "Epoch 00030: LearningRateScheduler setting learning rate to 0.0008100000559352338.\n",
      "Epoch 30/50\n",
      "1500/1500 - 2s - loss: 0.2479 - accuracy: 0.9408 - val_loss: 0.2491 - val_accuracy: 0.9668 - lr: 8.1000e-04\n",
      "WARNING:tensorflow:Warning: could not reach RemoteMonitor root server at http://localhost:9000\n",
      "\n",
      "Epoch 00031: LearningRateScheduler setting learning rate to 0.0007290000503417104.\n",
      "Epoch 31/50\n",
      "1500/1500 - 2s - loss: 0.2585 - accuracy: 0.9397 - val_loss: 0.2074 - val_accuracy: 0.9674 - lr: 7.2900e-04\n",
      "WARNING:tensorflow:Warning: could not reach RemoteMonitor root server at http://localhost:9000\n",
      "\n",
      "Epoch 00032: LearningRateScheduler setting learning rate to 0.0007290000794455409.\n",
      "Epoch 32/50\n",
      "1500/1500 - 2s - loss: 0.2346 - accuracy: 0.9430 - val_loss: 0.2672 - val_accuracy: 0.9665 - lr: 7.2900e-04\n",
      "WARNING:tensorflow:Warning: could not reach RemoteMonitor root server at http://localhost:9000\n",
      "\n",
      "Epoch 00033: LearningRateScheduler setting learning rate to 0.0007290000794455409.\n",
      "Epoch 33/50\n",
      "1500/1500 - 2s - loss: 0.2386 - accuracy: 0.9438 - val_loss: 0.2537 - val_accuracy: 0.9686 - lr: 7.2900e-04\n",
      "WARNING:tensorflow:Warning: could not reach RemoteMonitor root server at http://localhost:9000\n",
      "\n",
      "Epoch 00034: LearningRateScheduler setting learning rate to 0.0007290000794455409.\n",
      "Epoch 34/50\n",
      "1500/1500 - 2s - loss: 0.2464 - accuracy: 0.9426 - val_loss: 0.2282 - val_accuracy: 0.9660 - lr: 7.2900e-04\n",
      "WARNING:tensorflow:Warning: could not reach RemoteMonitor root server at http://localhost:9000\n",
      "\n",
      "Epoch 00035: LearningRateScheduler setting learning rate to 0.0007290000794455409.\n",
      "Epoch 35/50\n",
      "1500/1500 - 2s - loss: 0.2309 - accuracy: 0.9461 - val_loss: 0.2443 - val_accuracy: 0.9688 - lr: 7.2900e-04\n",
      "WARNING:tensorflow:Warning: could not reach RemoteMonitor root server at http://localhost:9000\n",
      "\n",
      "Epoch 00036: LearningRateScheduler setting learning rate to 0.0007290000794455409.\n",
      "Epoch 36/50\n",
      "1500/1500 - 2s - loss: 0.2357 - accuracy: 0.9454 - val_loss: 0.2194 - val_accuracy: 0.9661 - lr: 7.2900e-04\n",
      "WARNING:tensorflow:Warning: could not reach RemoteMonitor root server at http://localhost:9000\n",
      "\n",
      "Epoch 00037: LearningRateScheduler setting learning rate to 0.0007290000794455409.\n",
      "Epoch 37/50\n",
      "1500/1500 - 2s - loss: 0.2145 - accuracy: 0.9491 - val_loss: 0.2654 - val_accuracy: 0.9672 - lr: 7.2900e-04\n",
      "WARNING:tensorflow:Warning: could not reach RemoteMonitor root server at http://localhost:9000\n",
      "\n",
      "Epoch 00038: LearningRateScheduler setting learning rate to 0.0007290000794455409.\n",
      "Epoch 38/50\n",
      "1500/1500 - 2s - loss: 0.2306 - accuracy: 0.9465 - val_loss: 0.2676 - val_accuracy: 0.9670 - lr: 7.2900e-04\n",
      "WARNING:tensorflow:Warning: could not reach RemoteMonitor root server at http://localhost:9000\n",
      "\n",
      "Epoch 00039: LearningRateScheduler setting learning rate to 0.0007290000794455409.\n",
      "Epoch 39/50\n",
      "1500/1500 - 2s - loss: 0.2186 - accuracy: 0.9473 - val_loss: 0.2877 - val_accuracy: 0.9687 - lr: 7.2900e-04\n",
      "WARNING:tensorflow:Warning: could not reach RemoteMonitor root server at http://localhost:9000\n",
      "\n",
      "Epoch 00040: LearningRateScheduler setting learning rate to 0.0007290000794455409.\n",
      "Epoch 40/50\n",
      "1500/1500 - 2s - loss: 0.2274 - accuracy: 0.9465 - val_loss: 0.2753 - val_accuracy: 0.9667 - lr: 7.2900e-04\n",
      "WARNING:tensorflow:Warning: could not reach RemoteMonitor root server at http://localhost:9000\n",
      "\n",
      "Epoch 00041: LearningRateScheduler setting learning rate to 0.0006561000715009868.\n",
      "Epoch 41/50\n",
      "1500/1500 - 2s - loss: 0.2150 - accuracy: 0.9490 - val_loss: 0.2595 - val_accuracy: 0.9660 - lr: 6.5610e-04\n",
      "WARNING:tensorflow:Warning: could not reach RemoteMonitor root server at http://localhost:9000\n",
      "\n",
      "Epoch 00041: ReduceLROnPlateau reducing learning rate to 0.0001312200096435845.\n",
      "\n",
      "Epoch 00042: LearningRateScheduler setting learning rate to 0.0001312200038228184.\n",
      "Epoch 42/50\n",
      "1500/1500 - 2s - loss: 0.2008 - accuracy: 0.9515 - val_loss: 0.2852 - val_accuracy: 0.9703 - lr: 1.3122e-04\n",
      "WARNING:tensorflow:Warning: could not reach RemoteMonitor root server at http://localhost:9000\n",
      "\n",
      "Epoch 00043: LearningRateScheduler setting learning rate to 0.0001312200038228184.\n",
      "Epoch 43/50\n",
      "1500/1500 - 2s - loss: 0.1902 - accuracy: 0.9578 - val_loss: 0.2867 - val_accuracy: 0.9709 - lr: 1.3122e-04\n",
      "WARNING:tensorflow:Warning: could not reach RemoteMonitor root server at http://localhost:9000\n",
      "\n",
      "Epoch 00044: LearningRateScheduler setting learning rate to 0.0001312200038228184.\n",
      "Epoch 44/50\n",
      "1500/1500 - 2s - loss: 0.1795 - accuracy: 0.9577 - val_loss: 0.2931 - val_accuracy: 0.9702 - lr: 1.3122e-04\n",
      "WARNING:tensorflow:Warning: could not reach RemoteMonitor root server at http://localhost:9000\n",
      "\n",
      "Epoch 00045: LearningRateScheduler setting learning rate to 0.0001312200038228184.\n",
      "Epoch 45/50\n",
      "1500/1500 - 2s - loss: 0.1726 - accuracy: 0.9594 - val_loss: 0.3008 - val_accuracy: 0.9711 - lr: 1.3122e-04\n",
      "WARNING:tensorflow:Warning: could not reach RemoteMonitor root server at http://localhost:9000\n",
      "\n",
      "Epoch 00046: LearningRateScheduler setting learning rate to 0.0001312200038228184.\n",
      "Epoch 46/50\n",
      "1500/1500 - 2s - loss: 0.1729 - accuracy: 0.9592 - val_loss: 0.3135 - val_accuracy: 0.9712 - lr: 1.3122e-04\n",
      "WARNING:tensorflow:Warning: could not reach RemoteMonitor root server at http://localhost:9000\n",
      "\n",
      "Epoch 00047: LearningRateScheduler setting learning rate to 0.0001312200038228184.\n",
      "Epoch 47/50\n",
      "1500/1500 - 2s - loss: 0.1731 - accuracy: 0.9606 - val_loss: 0.3053 - val_accuracy: 0.9712 - lr: 1.3122e-04\n",
      "WARNING:tensorflow:Warning: could not reach RemoteMonitor root server at http://localhost:9000\n",
      "\n",
      "Epoch 00048: LearningRateScheduler setting learning rate to 0.0001312200038228184.\n",
      "Epoch 48/50\n",
      "1500/1500 - 2s - loss: 0.1754 - accuracy: 0.9607 - val_loss: 0.3085 - val_accuracy: 0.9717 - lr: 1.3122e-04\n",
      "WARNING:tensorflow:Warning: could not reach RemoteMonitor root server at http://localhost:9000\n",
      "\n",
      "Epoch 00049: LearningRateScheduler setting learning rate to 0.0001312200038228184.\n",
      "Epoch 49/50\n",
      "1500/1500 - 2s - loss: 0.1717 - accuracy: 0.9601 - val_loss: 0.3107 - val_accuracy: 0.9707 - lr: 1.3122e-04\n",
      "WARNING:tensorflow:Warning: could not reach RemoteMonitor root server at http://localhost:9000\n",
      "\n",
      "Epoch 00050: LearningRateScheduler setting learning rate to 0.0001312200038228184.\n",
      "Epoch 50/50\n",
      "1500/1500 - 2s - loss: 0.1599 - accuracy: 0.9617 - val_loss: 0.3211 - val_accuracy: 0.9717 - lr: 1.3122e-04\n",
      "WARNING:tensorflow:Warning: could not reach RemoteMonitor root server at http://localhost:9000\n",
      "CPU times: user 2min 59s, sys: 23.2 s, total: 3min 22s\n",
      "Wall time: 1min 48s\n"
     ]
    }
   ],
   "source": [
    "%%time\n",
    "history = model.fit(x_train, y_train_enc.numpy(), batch_size=32, epochs=50, verbose=2, validation_split=0.2\n",
    "                    , callbacks=callbacks)"
   ]
  },
  {
   "cell_type": "code",
   "execution_count": null,
   "id": "9e1759b6",
   "metadata": {},
   "outputs": [],
   "source": [
    "model.save('dumped_models/tmp_mnist_model')"
   ]
  },
  {
   "cell_type": "code",
   "execution_count": null,
   "id": "835f3381",
   "metadata": {},
   "outputs": [],
   "source": [
    "model.evaluate(x_test,y_test)"
   ]
  },
  {
   "cell_type": "code",
   "execution_count": null,
   "id": "f569f069",
   "metadata": {},
   "outputs": [],
   "source": [
    "model.evaluate(x_test[:1], y_test[:1])"
   ]
  },
  {
   "cell_type": "code",
   "execution_count": null,
   "id": "e8665087",
   "metadata": {},
   "outputs": [],
   "source": [
    "y_pred = model.predict(x_test)"
   ]
  },
  {
   "cell_type": "code",
   "execution_count": null,
   "id": "d5533ea5",
   "metadata": {},
   "outputs": [],
   "source": [
    "y_test[:10]"
   ]
  },
  {
   "cell_type": "code",
   "execution_count": null,
   "id": "a9493cce",
   "metadata": {},
   "outputs": [],
   "source": [
    "import numpy as np\n",
    "class_idx = np.argmax( y_pred[:10], axis=1)\n",
    "class_idx"
   ]
  },
  {
   "cell_type": "code",
   "execution_count": null,
   "id": "ae5065fe",
   "metadata": {},
   "outputs": [],
   "source": []
  }
 ],
 "metadata": {
  "kernelspec": {
   "display_name": "Python 3",
   "language": "python",
   "name": "python3"
  },
  "language_info": {
   "codemirror_mode": {
    "name": "ipython",
    "version": 3
   },
   "file_extension": ".py",
   "mimetype": "text/x-python",
   "name": "python",
   "nbconvert_exporter": "python",
   "pygments_lexer": "ipython3",
   "version": "3.8.8"
  }
 },
 "nbformat": 4,
 "nbformat_minor": 5
}
